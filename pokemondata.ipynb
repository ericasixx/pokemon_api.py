{
 "cells": [
  {
   "cell_type": "code",
   "execution_count": 1,
   "id": "56213f70-1f04-4f03-8bc2-66b788f91121",
   "metadata": {
    "collapsed": true,
    "jupyter": {
     "outputs_hidden": true
    }
   },
   "outputs": [
    {
     "name": "stdout",
     "output_type": "stream",
     "text": [
      "{'grass': {'bulbasaur': {'abilities': ['overgrow', 'chlorophyll'], 'weight': 69}, 'ivysaur': {'abilities': ['overgrow', 'chlorophyll'], 'weight': 130}, 'venusaur': {'abilities': ['overgrow', 'chlorophyll'], 'weight': 1000}}, 'poison': {'bulbasaur': {'abilities': ['overgrow', 'chlorophyll'], 'weight': 69}, 'ivysaur': {'abilities': ['overgrow', 'chlorophyll'], 'weight': 130}, 'venusaur': {'abilities': ['overgrow', 'chlorophyll'], 'weight': 1000}, 'weedle': {'abilities': ['shield-dust', 'run-away'], 'weight': 32}, 'kakuna': {'abilities': ['shed-skin'], 'weight': 100}, 'beedrill': {'abilities': ['swarm', 'sniper'], 'weight': 295}}, 'fire': {'charmander': {'abilities': ['blaze', 'solar-power'], 'weight': 85}, 'charmeleon': {'abilities': ['blaze', 'solar-power'], 'weight': 190}, 'charizard': {'abilities': ['blaze', 'solar-power'], 'weight': 905}}, 'flying': {'charizard': {'abilities': ['blaze', 'solar-power'], 'weight': 905}, 'butterfree': {'abilities': ['compound-eyes', 'tinted-lens'], 'weight': 320}, 'pidgey': {'abilities': ['keen-eye', 'tangled-feet', 'big-pecks'], 'weight': 18}, 'pidgeotto': {'abilities': ['keen-eye', 'tangled-feet', 'big-pecks'], 'weight': 300}, 'pidgeot': {'abilities': ['keen-eye', 'tangled-feet', 'big-pecks'], 'weight': 395}}, 'water': {'squirtle': {'abilities': ['torrent', 'rain-dish'], 'weight': 90}, 'wartortle': {'abilities': ['torrent', 'rain-dish'], 'weight': 225}, 'blastoise': {'abilities': ['torrent', 'rain-dish'], 'weight': 855}}, 'bug': {'caterpie': {'abilities': ['shield-dust', 'run-away'], 'weight': 29}, 'metapod': {'abilities': ['shed-skin'], 'weight': 99}, 'butterfree': {'abilities': ['compound-eyes', 'tinted-lens'], 'weight': 320}, 'weedle': {'abilities': ['shield-dust', 'run-away'], 'weight': 32}, 'kakuna': {'abilities': ['shed-skin'], 'weight': 100}, 'beedrill': {'abilities': ['swarm', 'sniper'], 'weight': 295}}, 'normal': {'pidgey': {'abilities': ['keen-eye', 'tangled-feet', 'big-pecks'], 'weight': 18}, 'pidgeotto': {'abilities': ['keen-eye', 'tangled-feet', 'big-pecks'], 'weight': 300}, 'pidgeot': {'abilities': ['keen-eye', 'tangled-feet', 'big-pecks'], 'weight': 395}, 'rattata': {'abilities': ['run-away', 'guts', 'hustle'], 'weight': 35}, 'raticate': {'abilities': ['run-away', 'guts', 'hustle'], 'weight': 185}}}\n"
     ]
    }
   ],
   "source": [
    "import requests\n",
    "\n",
    "def fetch_pokemon_data():\n",
    "    \"\"\"Fetches data for 20 Pokémon from PokeAPI\"\"\"\n",
    "    base_url = \"https://pokeapi.co/api/v2/pokemon/\"\n",
    "    response = requests.get(f\"{base_url}?limit=20\")\n",
    "    results = response.json()['results']\n",
    "    \n",
    "    pokemon_data = []\n",
    "    for pokemon in results:\n",
    "        data = requests.get(pokemon['url']).json()\n",
    "        processed = {\n",
    "            'name': data['name'],\n",
    "            'abilities': [ability['ability']['name'] for ability in data['abilities']],\n",
    "            'types': [type_data['type']['name'] for type_data in data['types']],\n",
    "            'weight': data['weight']\n",
    "        }\n",
    "        pokemon_data.append(processed)\n",
    "    return pokemon_data\n",
    "\n",
    "def organize_by_type(pokemon_list):\n",
    "    \"\"\"Organizes Pokémon into nested dictionary by their types\"\"\"\n",
    "    type_dict = {}\n",
    "    for pokemon in pokemon_list:\n",
    "        for poke_type in pokemon['types']:\n",
    "            if poke_type not in type_dict:\n",
    "                type_dict[poke_type] = {}\n",
    "            type_dict[poke_type][pokemon['name']] = {\n",
    "                'abilities': pokemon['abilities'],\n",
    "                'weight': pokemon['weight']\n",
    "            }\n",
    "    return type_dict\n",
    "\n",
    "def main():\n",
    "    \"\"\"Main execution function\"\"\"\n",
    "    pokemon_data = fetch_pokemon_data()\n",
    "    organized_data = organize_by_type(pokemon_data)\n",
    "    return organized_data\n",
    "\n",
    "# Example usage\n",
    "if __name__ == \"__main__\":\n",
    "    result = main()\n",
    "    print(result)\n"
   ]
  },
  {
   "cell_type": "code",
   "execution_count": null,
   "id": "97fd9a26-e749-4272-8a3d-70f53a0c5157",
   "metadata": {},
   "outputs": [],
   "source": []
  },
  {
   "cell_type": "code",
   "execution_count": null,
   "id": "809d43d7-e3fa-43e4-a42e-941717bc8934",
   "metadata": {},
   "outputs": [],
   "source": []
  }
 ],
 "metadata": {
  "kernelspec": {
   "display_name": "anaconda-2024.02-py310",
   "language": "python",
   "name": "conda-env-anaconda-2024.02-py310-py"
  },
  "language_info": {
   "codemirror_mode": {
    "name": "ipython",
    "version": 3
   },
   "file_extension": ".py",
   "mimetype": "text/x-python",
   "name": "python",
   "nbconvert_exporter": "python",
   "pygments_lexer": "ipython3",
   "version": "3.10.14"
  }
 },
 "nbformat": 4,
 "nbformat_minor": 5
}
